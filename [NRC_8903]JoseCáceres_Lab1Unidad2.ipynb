{
  "nbformat": 4,
  "nbformat_minor": 0,
  "metadata": {
    "colab": {
      "name": "[NRC_8903]JoseCáceres_Lab1Unidad2.ipynb",
      "provenance": [],
      "collapsed_sections": [],
      "authorship_tag": "ABX9TyMiq6fIS0cHWhbLek4L+zgm",
      "include_colab_link": true
    },
    "kernelspec": {
      "name": "python3",
      "display_name": "Python 3"
    },
    "language_info": {
      "name": "python"
    }
  },
  "cells": [
    {
      "cell_type": "markdown",
      "metadata": {
        "id": "view-in-github",
        "colab_type": "text"
      },
      "source": [
        "<a href=\"https://colab.research.google.com/github/jacaceres1/Modelado/blob/Proyects/%5BNRC_8903%5DJoseC%C3%A1ceres_Lab1Unidad2.ipynb\" target=\"_parent\"><img src=\"https://colab.research.google.com/assets/colab-badge.svg\" alt=\"Open In Colab\"/></a>"
      ]
    },
    {
      "cell_type": "code",
      "execution_count": 9,
      "metadata": {
        "id": "2GQB9xNKAMop"
      },
      "outputs": [],
      "source": [
        "import glob #permite buscar la ruta\n",
        "import pandas as pd #pd es el apodo que recibe para us funcion\n",
        "import xml.etree.ElementTree as ET #permite construir docuimentos xml\n",
        "from datetime import datetime #clase para manipular fechas y horas\n",
        "from zipfile import ZipFile #extraer la libreria para descomprimir\n",
        "import requests"
      ]
    },
    {
      "cell_type": "code",
      "source": [
        "#mediante la funcion para descargar en segundo plano\n",
        "def getData():\n",
        "  remote_url='https://cf-courses-data.s3.us.cloud-object-storage.appdomain.cloud/IBMDeveloperSkillsNetwork-PY0221EN-SkillsNetwork/labs/module%206/Lab%20-%20Extract%20Transform%20Load/data/datasource.zip'\n",
        "  local_file = 'datasource.zip'\n",
        "  data = requests.get(remote_url)\n",
        "  with open(local_file, 'wb') as f:\n",
        "    f.write(data.content)\n",
        "  with ZipFile(local_file, 'r') as zipObj:\n",
        "    zipObj.extractall('dealership_data')\n"
      ],
      "metadata": {
        "id": "u6mO36BYBjHq"
      },
      "execution_count": 8,
      "outputs": []
    },
    {
      "cell_type": "code",
      "source": [
        "#establecer los archivos de destino\n",
        "tmpfile = \"dealership_temp.tmp\"\n",
        "logfile = \"dealership_logfile.txt\"\n",
        "targetfile = \"dealership_transformed_data.csv\""
      ],
      "metadata": {
        "id": "djXtEdYPH76U"
      },
      "execution_count": 2,
      "outputs": []
    },
    {
      "cell_type": "code",
      "source": [
        "#funcion csv \n",
        "def extract_from_csv(file_to_process):\n",
        "  dataframe = pd.read_csv(file_to_process)\n",
        "  return dataframe\n",
        "\n",
        "#funcion json\n",
        "def extract_from_json(file_to_process):\n",
        "  dataframe = pd.read_json(file_to_process,lines=True)\n",
        "  return dataframe\n",
        "#funcion xml\n",
        "def extract_from_xml(file_to_process):\n",
        "  dataframe = pd.DataFrame(columns=['car_model','year_of_manufacture','price','fuel'])\n",
        "  tree = ET.parse(file_to_process)\n",
        "  root = tree.getroot()\n",
        "  for person in root:\n",
        "    car_model = person.find(\"car_model\").text\n",
        "    year_of_manufacture = int(person.find(\"year_of_manufacture\").text)\n",
        "    price = float(person.find(\"price\").text)\n",
        "    fuel = person.find(\"fuel\").text\n",
        "    dataframe = dataframe.append({\"car_model\":car_model,\"year_of_manufacture\":year_of_manufacture, \"price\":price, \"fuel\":fuel},ignore_index=True)\n",
        "  return dataframe\n",
        "\n",
        "def extract():\n",
        "  extracted_data = pd.DataFrame(columns=['car_model','year_of_manufacture','price', 'fuel'])\n",
        "  #for csv files\n",
        "  for csvfile in glob.glob(\"dealership_data/*.csv\"):\n",
        "    extracted_data = extracted_data.append(extract_from_csv(csvfile),ignore_index=True)\n",
        "  #for json files\n",
        "  for jsonfile in glob.glob(\"dealership_data/*.json\"):\n",
        "    extracted_data = extracted_data.append(extract_from_json(jsonfile),ignore_index=True)\n",
        "  #for xml files\n",
        "  for xmlfile in glob.glob(\"dealership_data/*.xml\"):\n",
        "    extracted_data = extracted_data.append(extract_from_xml(xmlfile),ignore_index=True)\n",
        "  return extracted_data"
      ],
      "metadata": {
        "id": "rkq8sKgcIkd0"
      },
      "execution_count": 3,
      "outputs": []
    },
    {
      "cell_type": "code",
      "source": [
        "def transform(data):\n",
        "  data['price'] = round(data.price, 2)\n",
        "  return data"
      ],
      "metadata": {
        "id": "ICj2E4fiJi-p"
      },
      "execution_count": 4,
      "outputs": []
    },
    {
      "cell_type": "code",
      "source": [
        "def load(targetfile,data_to_load):\n",
        "  data_to_load.to_csv(targetfile)"
      ],
      "metadata": {
        "id": "4roKWRKRJl-G"
      },
      "execution_count": 5,
      "outputs": []
    },
    {
      "cell_type": "code",
      "source": [
        "def log(message):\n",
        "  timestamp_format = '%H:%M:%S-%h-%d-%Y'\n",
        "  #Hour-Minute-Second-MonthName-Day-Year\n",
        "  now = datetime.now() # get current timestamp\n",
        "  timestamp = now.strftime(timestamp_format)\n",
        "  with open(\"dealership_logfile.txt\",\"a\") as f: \n",
        "    f.write(timestamp + ',' + message +'n')"
      ],
      "metadata": {
        "id": "kT3IXdy4Jp6s"
      },
      "execution_count": 6,
      "outputs": []
    },
    {
      "cell_type": "code",
      "source": [
        "#Main para ejecutar la descarga\n",
        "if __name__ == '__main__':\n",
        "  #declarar todas las funciones qu se van a ejecutar\n",
        "  getData()\n",
        "\n",
        "  #extraer los datos descargados\n",
        "  log(\"Extract phase Started\")\n",
        "  extracted_data = extract()\n",
        "  log(\"Extract phase Ended\")\n",
        "\n",
        "  #transformar los datos obtenidos\n",
        "  log(\"Transform phase Started\")\n",
        "  transformed_data = transform(extracted_data)\n",
        "  log(\"Transform phase Ended\")\n",
        "\n",
        "  #load \n",
        "  log(\"Load phase Started\")\n",
        "  load(targetfile,transformed_data)\n",
        "  log(\"Load phase Ended\")\n",
        "\n",
        "  #finalizar el etl correspondiente\n",
        "  log(\"ETL Job Ended\")"
      ],
      "metadata": {
        "id": "Cd-4sL2mTtrG"
      },
      "execution_count": 10,
      "outputs": []
    },
    {
      "cell_type": "code",
      "source": [
        "print(\"Datos extraidos\")\n",
        "print(extracted_data)\n"
      ],
      "metadata": {
        "colab": {
          "base_uri": "https://localhost:8080/"
        },
        "id": "AwiMjxEeKA0T",
        "outputId": "a97c4d80-95d7-412b-ea7f-6f223063b079"
      },
      "execution_count": 44,
      "outputs": [
        {
          "output_type": "stream",
          "name": "stdout",
          "text": [
            "Datos extraidos\n",
            "        car_model year_of_manufacture     price    fuel\n",
            "0        alto 800                2017   4253.73  Petrol\n",
            "1            ciaz                2015  10223.88  Diesel\n",
            "2            ciaz                2015  11194.03  Petrol\n",
            "3          ertiga                2015   9104.48  Petrol\n",
            "4           dzire                2009   3358.21  Petrol\n",
            "..            ...                 ...       ...     ...\n",
            "85        etios g                2015   5895.52  Petrol\n",
            "86  corolla altis                2013   8208.96  Petrol\n",
            "87        corolla                2004   2238.81  Petrol\n",
            "88  corolla altis                2010   7835.82  Petrol\n",
            "89       fortuner                2012  21641.79  Diesel\n",
            "\n",
            "[90 rows x 4 columns]\n"
          ]
        }
      ]
    },
    {
      "cell_type": "code",
      "source": [
        "print(\"Datos Extraidos\")\n",
        "print(transformed_data)"
      ],
      "metadata": {
        "colab": {
          "base_uri": "https://localhost:8080/"
        },
        "id": "fZk-Oax9XCc3",
        "outputId": "3765b3ab-d637-4739-abca-62175b563437"
      },
      "execution_count": 45,
      "outputs": [
        {
          "output_type": "stream",
          "name": "stdout",
          "text": [
            "Datos Extraidos\n",
            "        car_model year_of_manufacture     price    fuel\n",
            "0        alto 800                2017   4253.73  Petrol\n",
            "1            ciaz                2015  10223.88  Diesel\n",
            "2            ciaz                2015  11194.03  Petrol\n",
            "3          ertiga                2015   9104.48  Petrol\n",
            "4           dzire                2009   3358.21  Petrol\n",
            "..            ...                 ...       ...     ...\n",
            "85        etios g                2015   5895.52  Petrol\n",
            "86  corolla altis                2013   8208.96  Petrol\n",
            "87        corolla                2004   2238.81  Petrol\n",
            "88  corolla altis                2010   7835.82  Petrol\n",
            "89       fortuner                2012  21641.79  Diesel\n",
            "\n",
            "[90 rows x 4 columns]\n"
          ]
        }
      ]
    }
  ]
}